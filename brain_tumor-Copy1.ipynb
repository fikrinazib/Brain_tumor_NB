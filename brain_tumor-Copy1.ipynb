{
 "cells": [
  {
   "cell_type": "markdown",
   "id": "b5d7c0e4",
   "metadata": {},
   "source": [
    "## Import Library"
   ]
  },
  {
   "cell_type": "code",
   "execution_count": 21,
   "id": "a9ed83dc",
   "metadata": {},
   "outputs": [],
   "source": [
    "import numpy as np\n",
    "import pandas as pd\n",
    "from sklearn.model_selection import train_test_split\n",
    "from sklearn.preprocessing import StandardScaler\n",
    "from sklearn.naive_bayes import GaussianNB\n",
    "from sklearn.metrics import confusion_matrix, accuracy_score"
   ]
  },
  {
   "cell_type": "markdown",
   "id": "802941fc",
   "metadata": {},
   "source": [
    "## Read Dataset"
   ]
  },
  {
   "cell_type": "code",
   "execution_count": 22,
   "id": "cba3aa49",
   "metadata": {},
   "outputs": [],
   "source": [
    "data=pd.read_csv('Brain-Tumor.csv')"
   ]
  },
  {
   "cell_type": "code",
   "execution_count": 23,
   "id": "97dd3bbb",
   "metadata": {},
   "outputs": [
    {
     "name": "stdout",
     "output_type": "stream",
     "text": [
      "<class 'pandas.core.frame.DataFrame'>\n",
      "RangeIndex: 3762 entries, 0 to 3761\n",
      "Data columns (total 14 columns):\n",
      " #   Column              Non-Null Count  Dtype  \n",
      "---  ------              --------------  -----  \n",
      " 0   Image               3762 non-null   object \n",
      " 1   Class               3762 non-null   int64  \n",
      " 2   Mean                3762 non-null   float64\n",
      " 3   Variance            3762 non-null   float64\n",
      " 4   Standard Deviation  3762 non-null   float64\n",
      " 5   Entropy             3762 non-null   float64\n",
      " 6   Skewness            3762 non-null   float64\n",
      " 7   Kurtosis            3762 non-null   float64\n",
      " 8   Contrast            3762 non-null   float64\n",
      " 9   Energy              3762 non-null   float64\n",
      " 10  ASM                 3762 non-null   float64\n",
      " 11  Homogeneity         3762 non-null   float64\n",
      " 12  Dissimilarity       3762 non-null   float64\n",
      " 13  Correlation         3762 non-null   float64\n",
      "dtypes: float64(12), int64(1), object(1)\n",
      "memory usage: 411.6+ KB\n"
     ]
    }
   ],
   "source": [
    "data.info()"
   ]
  },
  {
   "cell_type": "code",
   "execution_count": 24,
   "id": "58741d7d",
   "metadata": {},
   "outputs": [
    {
     "data": {
      "text/html": [
       "<div>\n",
       "<style scoped>\n",
       "    .dataframe tbody tr th:only-of-type {\n",
       "        vertical-align: middle;\n",
       "    }\n",
       "\n",
       "    .dataframe tbody tr th {\n",
       "        vertical-align: top;\n",
       "    }\n",
       "\n",
       "    .dataframe thead th {\n",
       "        text-align: right;\n",
       "    }\n",
       "</style>\n",
       "<table border=\"1\" class=\"dataframe\">\n",
       "  <thead>\n",
       "    <tr style=\"text-align: right;\">\n",
       "      <th></th>\n",
       "      <th>Image</th>\n",
       "      <th>Class</th>\n",
       "      <th>Mean</th>\n",
       "      <th>Variance</th>\n",
       "      <th>Standard Deviation</th>\n",
       "      <th>Entropy</th>\n",
       "      <th>Skewness</th>\n",
       "      <th>Kurtosis</th>\n",
       "      <th>Contrast</th>\n",
       "      <th>Energy</th>\n",
       "      <th>ASM</th>\n",
       "      <th>Homogeneity</th>\n",
       "      <th>Dissimilarity</th>\n",
       "      <th>Correlation</th>\n",
       "    </tr>\n",
       "  </thead>\n",
       "  <tbody>\n",
       "    <tr>\n",
       "      <th>0</th>\n",
       "      <td>Image1</td>\n",
       "      <td>0</td>\n",
       "      <td>6.54</td>\n",
       "      <td>619.59</td>\n",
       "      <td>24.89</td>\n",
       "      <td>0.11</td>\n",
       "      <td>4.28</td>\n",
       "      <td>18.90</td>\n",
       "      <td>98.61</td>\n",
       "      <td>0.29</td>\n",
       "      <td>0.09</td>\n",
       "      <td>0.53</td>\n",
       "      <td>4.47</td>\n",
       "      <td>0.98</td>\n",
       "    </tr>\n",
       "    <tr>\n",
       "      <th>1</th>\n",
       "      <td>Image2</td>\n",
       "      <td>0</td>\n",
       "      <td>8.75</td>\n",
       "      <td>805.96</td>\n",
       "      <td>28.39</td>\n",
       "      <td>0.27</td>\n",
       "      <td>3.72</td>\n",
       "      <td>14.46</td>\n",
       "      <td>63.86</td>\n",
       "      <td>0.48</td>\n",
       "      <td>0.23</td>\n",
       "      <td>0.65</td>\n",
       "      <td>3.22</td>\n",
       "      <td>0.99</td>\n",
       "    </tr>\n",
       "    <tr>\n",
       "      <th>2</th>\n",
       "      <td>Image3</td>\n",
       "      <td>1</td>\n",
       "      <td>7.34</td>\n",
       "      <td>1143.81</td>\n",
       "      <td>33.82</td>\n",
       "      <td>0.00</td>\n",
       "      <td>5.06</td>\n",
       "      <td>26.48</td>\n",
       "      <td>81.87</td>\n",
       "      <td>0.03</td>\n",
       "      <td>0.00</td>\n",
       "      <td>0.27</td>\n",
       "      <td>5.98</td>\n",
       "      <td>0.98</td>\n",
       "    </tr>\n",
       "    <tr>\n",
       "      <th>3</th>\n",
       "      <td>Image4</td>\n",
       "      <td>1</td>\n",
       "      <td>5.96</td>\n",
       "      <td>959.71</td>\n",
       "      <td>30.98</td>\n",
       "      <td>0.00</td>\n",
       "      <td>5.68</td>\n",
       "      <td>33.43</td>\n",
       "      <td>151.23</td>\n",
       "      <td>0.03</td>\n",
       "      <td>0.00</td>\n",
       "      <td>0.24</td>\n",
       "      <td>7.70</td>\n",
       "      <td>0.96</td>\n",
       "    </tr>\n",
       "    <tr>\n",
       "      <th>4</th>\n",
       "      <td>Image5</td>\n",
       "      <td>0</td>\n",
       "      <td>7.32</td>\n",
       "      <td>729.54</td>\n",
       "      <td>27.01</td>\n",
       "      <td>0.15</td>\n",
       "      <td>4.28</td>\n",
       "      <td>19.08</td>\n",
       "      <td>174.99</td>\n",
       "      <td>0.34</td>\n",
       "      <td>0.12</td>\n",
       "      <td>0.50</td>\n",
       "      <td>6.83</td>\n",
       "      <td>0.97</td>\n",
       "    </tr>\n",
       "    <tr>\n",
       "      <th>...</th>\n",
       "      <td>...</td>\n",
       "      <td>...</td>\n",
       "      <td>...</td>\n",
       "      <td>...</td>\n",
       "      <td>...</td>\n",
       "      <td>...</td>\n",
       "      <td>...</td>\n",
       "      <td>...</td>\n",
       "      <td>...</td>\n",
       "      <td>...</td>\n",
       "      <td>...</td>\n",
       "      <td>...</td>\n",
       "      <td>...</td>\n",
       "      <td>...</td>\n",
       "    </tr>\n",
       "    <tr>\n",
       "      <th>3757</th>\n",
       "      <td>Image3758</td>\n",
       "      <td>0</td>\n",
       "      <td>21.23</td>\n",
       "      <td>1208.85</td>\n",
       "      <td>34.77</td>\n",
       "      <td>0.06</td>\n",
       "      <td>2.08</td>\n",
       "      <td>4.65</td>\n",
       "      <td>158.44</td>\n",
       "      <td>0.22</td>\n",
       "      <td>0.05</td>\n",
       "      <td>0.49</td>\n",
       "      <td>5.21</td>\n",
       "      <td>0.95</td>\n",
       "    </tr>\n",
       "    <tr>\n",
       "      <th>3758</th>\n",
       "      <td>Image3759</td>\n",
       "      <td>0</td>\n",
       "      <td>20.44</td>\n",
       "      <td>1227.15</td>\n",
       "      <td>35.03</td>\n",
       "      <td>0.07</td>\n",
       "      <td>2.14</td>\n",
       "      <td>4.88</td>\n",
       "      <td>161.16</td>\n",
       "      <td>0.23</td>\n",
       "      <td>0.05</td>\n",
       "      <td>0.50</td>\n",
       "      <td>5.08</td>\n",
       "      <td>0.95</td>\n",
       "    </tr>\n",
       "    <tr>\n",
       "      <th>3759</th>\n",
       "      <td>Image3760</td>\n",
       "      <td>0</td>\n",
       "      <td>18.01</td>\n",
       "      <td>1151.58</td>\n",
       "      <td>33.93</td>\n",
       "      <td>0.07</td>\n",
       "      <td>2.31</td>\n",
       "      <td>5.58</td>\n",
       "      <td>167.13</td>\n",
       "      <td>0.23</td>\n",
       "      <td>0.05</td>\n",
       "      <td>0.49</td>\n",
       "      <td>5.10</td>\n",
       "      <td>0.95</td>\n",
       "    </tr>\n",
       "    <tr>\n",
       "      <th>3760</th>\n",
       "      <td>Image3761</td>\n",
       "      <td>0</td>\n",
       "      <td>13.33</td>\n",
       "      <td>945.73</td>\n",
       "      <td>30.75</td>\n",
       "      <td>0.09</td>\n",
       "      <td>2.73</td>\n",
       "      <td>7.76</td>\n",
       "      <td>223.81</td>\n",
       "      <td>0.26</td>\n",
       "      <td>0.07</td>\n",
       "      <td>0.48</td>\n",
       "      <td>6.44</td>\n",
       "      <td>0.94</td>\n",
       "    </tr>\n",
       "    <tr>\n",
       "      <th>3761</th>\n",
       "      <td>Image3762</td>\n",
       "      <td>0</td>\n",
       "      <td>6.11</td>\n",
       "      <td>480.88</td>\n",
       "      <td>21.93</td>\n",
       "      <td>0.12</td>\n",
       "      <td>4.11</td>\n",
       "      <td>17.54</td>\n",
       "      <td>239.25</td>\n",
       "      <td>0.31</td>\n",
       "      <td>0.09</td>\n",
       "      <td>0.49</td>\n",
       "      <td>6.79</td>\n",
       "      <td>0.94</td>\n",
       "    </tr>\n",
       "  </tbody>\n",
       "</table>\n",
       "<p>3762 rows × 14 columns</p>\n",
       "</div>"
      ],
      "text/plain": [
       "          Image  Class   Mean  Variance  Standard Deviation  Entropy  \\\n",
       "0        Image1      0   6.54    619.59               24.89     0.11   \n",
       "1        Image2      0   8.75    805.96               28.39     0.27   \n",
       "2        Image3      1   7.34   1143.81               33.82     0.00   \n",
       "3        Image4      1   5.96    959.71               30.98     0.00   \n",
       "4        Image5      0   7.32    729.54               27.01     0.15   \n",
       "...         ...    ...    ...       ...                 ...      ...   \n",
       "3757  Image3758      0  21.23   1208.85               34.77     0.06   \n",
       "3758  Image3759      0  20.44   1227.15               35.03     0.07   \n",
       "3759  Image3760      0  18.01   1151.58               33.93     0.07   \n",
       "3760  Image3761      0  13.33    945.73               30.75     0.09   \n",
       "3761  Image3762      0   6.11    480.88               21.93     0.12   \n",
       "\n",
       "      Skewness  Kurtosis  Contrast  Energy   ASM  Homogeneity  Dissimilarity  \\\n",
       "0         4.28     18.90     98.61    0.29  0.09         0.53           4.47   \n",
       "1         3.72     14.46     63.86    0.48  0.23         0.65           3.22   \n",
       "2         5.06     26.48     81.87    0.03  0.00         0.27           5.98   \n",
       "3         5.68     33.43    151.23    0.03  0.00         0.24           7.70   \n",
       "4         4.28     19.08    174.99    0.34  0.12         0.50           6.83   \n",
       "...        ...       ...       ...     ...   ...          ...            ...   \n",
       "3757      2.08      4.65    158.44    0.22  0.05         0.49           5.21   \n",
       "3758      2.14      4.88    161.16    0.23  0.05         0.50           5.08   \n",
       "3759      2.31      5.58    167.13    0.23  0.05         0.49           5.10   \n",
       "3760      2.73      7.76    223.81    0.26  0.07         0.48           6.44   \n",
       "3761      4.11     17.54    239.25    0.31  0.09         0.49           6.79   \n",
       "\n",
       "      Correlation  \n",
       "0            0.98  \n",
       "1            0.99  \n",
       "2            0.98  \n",
       "3            0.96  \n",
       "4            0.97  \n",
       "...           ...  \n",
       "3757         0.95  \n",
       "3758         0.95  \n",
       "3759         0.95  \n",
       "3760         0.94  \n",
       "3761         0.94  \n",
       "\n",
       "[3762 rows x 14 columns]"
      ]
     },
     "execution_count": 24,
     "metadata": {},
     "output_type": "execute_result"
    }
   ],
   "source": [
    "data"
   ]
  },
  {
   "cell_type": "code",
   "execution_count": 25,
   "id": "e7203e40",
   "metadata": {},
   "outputs": [],
   "source": [
    "data = data.drop(data[['Image']],axis=1)"
   ]
  },
  {
   "cell_type": "code",
   "execution_count": 26,
   "id": "a79a0ea0",
   "metadata": {},
   "outputs": [
    {
     "data": {
      "text/plain": [
       "(3762, 13)"
      ]
     },
     "execution_count": 26,
     "metadata": {},
     "output_type": "execute_result"
    }
   ],
   "source": [
    "data.shape"
   ]
  },
  {
   "cell_type": "code",
   "execution_count": 27,
   "id": "8bbee003",
   "metadata": {
    "scrolled": true
   },
   "outputs": [
    {
     "data": {
      "text/html": [
       "<div>\n",
       "<style scoped>\n",
       "    .dataframe tbody tr th:only-of-type {\n",
       "        vertical-align: middle;\n",
       "    }\n",
       "\n",
       "    .dataframe tbody tr th {\n",
       "        vertical-align: top;\n",
       "    }\n",
       "\n",
       "    .dataframe thead th {\n",
       "        text-align: right;\n",
       "    }\n",
       "</style>\n",
       "<table border=\"1\" class=\"dataframe\">\n",
       "  <thead>\n",
       "    <tr style=\"text-align: right;\">\n",
       "      <th></th>\n",
       "      <th>Class</th>\n",
       "      <th>Mean</th>\n",
       "      <th>Variance</th>\n",
       "      <th>Standard Deviation</th>\n",
       "      <th>Entropy</th>\n",
       "      <th>Skewness</th>\n",
       "      <th>Kurtosis</th>\n",
       "      <th>Contrast</th>\n",
       "      <th>Energy</th>\n",
       "      <th>ASM</th>\n",
       "      <th>Homogeneity</th>\n",
       "      <th>Dissimilarity</th>\n",
       "      <th>Correlation</th>\n",
       "    </tr>\n",
       "  </thead>\n",
       "  <tbody>\n",
       "    <tr>\n",
       "      <th>count</th>\n",
       "      <td>3762.000000</td>\n",
       "      <td>3762.000000</td>\n",
       "      <td>3762.000000</td>\n",
       "      <td>3762.000000</td>\n",
       "      <td>3762.000000</td>\n",
       "      <td>3762.000000</td>\n",
       "      <td>3762.000000</td>\n",
       "      <td>3762.000000</td>\n",
       "      <td>3762.000000</td>\n",
       "      <td>3762.000000</td>\n",
       "      <td>3762.000000</td>\n",
       "      <td>3762.000000</td>\n",
       "      <td>3762.000000</td>\n",
       "    </tr>\n",
       "    <tr>\n",
       "      <th>mean</th>\n",
       "      <td>0.447368</td>\n",
       "      <td>9.488937</td>\n",
       "      <td>711.101095</td>\n",
       "      <td>25.182281</td>\n",
       "      <td>0.073312</td>\n",
       "      <td>4.102780</td>\n",
       "      <td>24.389051</td>\n",
       "      <td>127.961449</td>\n",
       "      <td>0.204668</td>\n",
       "      <td>0.058240</td>\n",
       "      <td>0.479261</td>\n",
       "      <td>4.698480</td>\n",
       "      <td>0.955779</td>\n",
       "    </tr>\n",
       "    <tr>\n",
       "      <th>std</th>\n",
       "      <td>0.497288</td>\n",
       "      <td>5.728057</td>\n",
       "      <td>467.466846</td>\n",
       "      <td>8.773594</td>\n",
       "      <td>0.070759</td>\n",
       "      <td>2.560976</td>\n",
       "      <td>56.434744</td>\n",
       "      <td>109.499528</td>\n",
       "      <td>0.129405</td>\n",
       "      <td>0.058704</td>\n",
       "      <td>0.127913</td>\n",
       "      <td>1.850242</td>\n",
       "      <td>0.026345</td>\n",
       "    </tr>\n",
       "    <tr>\n",
       "      <th>min</th>\n",
       "      <td>0.000000</td>\n",
       "      <td>0.080000</td>\n",
       "      <td>3.150000</td>\n",
       "      <td>1.770000</td>\n",
       "      <td>0.000000</td>\n",
       "      <td>1.890000</td>\n",
       "      <td>3.940000</td>\n",
       "      <td>3.190000</td>\n",
       "      <td>0.020000</td>\n",
       "      <td>0.000000</td>\n",
       "      <td>0.110000</td>\n",
       "      <td>0.680000</td>\n",
       "      <td>0.550000</td>\n",
       "    </tr>\n",
       "    <tr>\n",
       "      <th>25%</th>\n",
       "      <td>0.000000</td>\n",
       "      <td>4.982500</td>\n",
       "      <td>363.222500</td>\n",
       "      <td>19.060000</td>\n",
       "      <td>0.010000</td>\n",
       "      <td>2.620000</td>\n",
       "      <td>7.250000</td>\n",
       "      <td>72.127500</td>\n",
       "      <td>0.070000</td>\n",
       "      <td>0.000000</td>\n",
       "      <td>0.362500</td>\n",
       "      <td>3.410000</td>\n",
       "      <td>0.950000</td>\n",
       "    </tr>\n",
       "    <tr>\n",
       "      <th>50%</th>\n",
       "      <td>0.000000</td>\n",
       "      <td>8.480000</td>\n",
       "      <td>622.580000</td>\n",
       "      <td>24.950000</td>\n",
       "      <td>0.070000</td>\n",
       "      <td>3.420000</td>\n",
       "      <td>12.360000</td>\n",
       "      <td>106.740000</td>\n",
       "      <td>0.230000</td>\n",
       "      <td>0.050000</td>\n",
       "      <td>0.510000</td>\n",
       "      <td>4.480000</td>\n",
       "      <td>0.960000</td>\n",
       "    </tr>\n",
       "    <tr>\n",
       "      <th>75%</th>\n",
       "      <td>1.000000</td>\n",
       "      <td>13.215000</td>\n",
       "      <td>966.957500</td>\n",
       "      <td>31.097500</td>\n",
       "      <td>0.110000</td>\n",
       "      <td>4.650000</td>\n",
       "      <td>22.640000</td>\n",
       "      <td>161.057500</td>\n",
       "      <td>0.300000</td>\n",
       "      <td>0.090000</td>\n",
       "      <td>0.580000</td>\n",
       "      <td>5.720000</td>\n",
       "      <td>0.970000</td>\n",
       "    </tr>\n",
       "    <tr>\n",
       "      <th>max</th>\n",
       "      <td>1.000000</td>\n",
       "      <td>33.240000</td>\n",
       "      <td>2910.580000</td>\n",
       "      <td>53.950000</td>\n",
       "      <td>0.390000</td>\n",
       "      <td>36.930000</td>\n",
       "      <td>1371.640000</td>\n",
       "      <td>3382.570000</td>\n",
       "      <td>0.590000</td>\n",
       "      <td>0.350000</td>\n",
       "      <td>0.810000</td>\n",
       "      <td>27.830000</td>\n",
       "      <td>0.990000</td>\n",
       "    </tr>\n",
       "  </tbody>\n",
       "</table>\n",
       "</div>"
      ],
      "text/plain": [
       "             Class         Mean     Variance  Standard Deviation      Entropy  \\\n",
       "count  3762.000000  3762.000000  3762.000000         3762.000000  3762.000000   \n",
       "mean      0.447368     9.488937   711.101095           25.182281     0.073312   \n",
       "std       0.497288     5.728057   467.466846            8.773594     0.070759   \n",
       "min       0.000000     0.080000     3.150000            1.770000     0.000000   \n",
       "25%       0.000000     4.982500   363.222500           19.060000     0.010000   \n",
       "50%       0.000000     8.480000   622.580000           24.950000     0.070000   \n",
       "75%       1.000000    13.215000   966.957500           31.097500     0.110000   \n",
       "max       1.000000    33.240000  2910.580000           53.950000     0.390000   \n",
       "\n",
       "          Skewness     Kurtosis     Contrast       Energy          ASM  \\\n",
       "count  3762.000000  3762.000000  3762.000000  3762.000000  3762.000000   \n",
       "mean      4.102780    24.389051   127.961449     0.204668     0.058240   \n",
       "std       2.560976    56.434744   109.499528     0.129405     0.058704   \n",
       "min       1.890000     3.940000     3.190000     0.020000     0.000000   \n",
       "25%       2.620000     7.250000    72.127500     0.070000     0.000000   \n",
       "50%       3.420000    12.360000   106.740000     0.230000     0.050000   \n",
       "75%       4.650000    22.640000   161.057500     0.300000     0.090000   \n",
       "max      36.930000  1371.640000  3382.570000     0.590000     0.350000   \n",
       "\n",
       "       Homogeneity  Dissimilarity  Correlation  \n",
       "count  3762.000000    3762.000000  3762.000000  \n",
       "mean      0.479261       4.698480     0.955779  \n",
       "std       0.127913       1.850242     0.026345  \n",
       "min       0.110000       0.680000     0.550000  \n",
       "25%       0.362500       3.410000     0.950000  \n",
       "50%       0.510000       4.480000     0.960000  \n",
       "75%       0.580000       5.720000     0.970000  \n",
       "max       0.810000      27.830000     0.990000  "
      ]
     },
     "execution_count": 27,
     "metadata": {},
     "output_type": "execute_result"
    }
   ],
   "source": [
    "data.describe()"
   ]
  },
  {
   "cell_type": "code",
   "execution_count": 28,
   "id": "3c85fa00",
   "metadata": {},
   "outputs": [
    {
     "data": {
      "text/plain": [
       "0    2079\n",
       "1    1683\n",
       "Name: Class, dtype: int64"
      ]
     },
     "execution_count": 28,
     "metadata": {},
     "output_type": "execute_result"
    }
   ],
   "source": [
    "data['Class'].value_counts()"
   ]
  },
  {
   "cell_type": "code",
   "execution_count": 29,
   "id": "53ff86d6",
   "metadata": {},
   "outputs": [],
   "source": [
    "# Memisahkan data dan label\n",
    "X = data.drop(columns='Class', axis=1)\n",
    "Y = data['Class']"
   ]
  },
  {
   "cell_type": "code",
   "execution_count": 30,
   "id": "77d46980",
   "metadata": {},
   "outputs": [
    {
     "data": {
      "text/html": [
       "<div>\n",
       "<style scoped>\n",
       "    .dataframe tbody tr th:only-of-type {\n",
       "        vertical-align: middle;\n",
       "    }\n",
       "\n",
       "    .dataframe tbody tr th {\n",
       "        vertical-align: top;\n",
       "    }\n",
       "\n",
       "    .dataframe thead th {\n",
       "        text-align: right;\n",
       "    }\n",
       "</style>\n",
       "<table border=\"1\" class=\"dataframe\">\n",
       "  <thead>\n",
       "    <tr style=\"text-align: right;\">\n",
       "      <th></th>\n",
       "      <th>Mean</th>\n",
       "      <th>Variance</th>\n",
       "      <th>Standard Deviation</th>\n",
       "      <th>Entropy</th>\n",
       "      <th>Skewness</th>\n",
       "      <th>Kurtosis</th>\n",
       "      <th>Contrast</th>\n",
       "      <th>Energy</th>\n",
       "      <th>ASM</th>\n",
       "      <th>Homogeneity</th>\n",
       "      <th>Dissimilarity</th>\n",
       "      <th>Correlation</th>\n",
       "    </tr>\n",
       "  </thead>\n",
       "  <tbody>\n",
       "    <tr>\n",
       "      <th>0</th>\n",
       "      <td>6.54</td>\n",
       "      <td>619.59</td>\n",
       "      <td>24.89</td>\n",
       "      <td>0.11</td>\n",
       "      <td>4.28</td>\n",
       "      <td>18.90</td>\n",
       "      <td>98.61</td>\n",
       "      <td>0.29</td>\n",
       "      <td>0.09</td>\n",
       "      <td>0.53</td>\n",
       "      <td>4.47</td>\n",
       "      <td>0.98</td>\n",
       "    </tr>\n",
       "    <tr>\n",
       "      <th>1</th>\n",
       "      <td>8.75</td>\n",
       "      <td>805.96</td>\n",
       "      <td>28.39</td>\n",
       "      <td>0.27</td>\n",
       "      <td>3.72</td>\n",
       "      <td>14.46</td>\n",
       "      <td>63.86</td>\n",
       "      <td>0.48</td>\n",
       "      <td>0.23</td>\n",
       "      <td>0.65</td>\n",
       "      <td>3.22</td>\n",
       "      <td>0.99</td>\n",
       "    </tr>\n",
       "    <tr>\n",
       "      <th>2</th>\n",
       "      <td>7.34</td>\n",
       "      <td>1143.81</td>\n",
       "      <td>33.82</td>\n",
       "      <td>0.00</td>\n",
       "      <td>5.06</td>\n",
       "      <td>26.48</td>\n",
       "      <td>81.87</td>\n",
       "      <td>0.03</td>\n",
       "      <td>0.00</td>\n",
       "      <td>0.27</td>\n",
       "      <td>5.98</td>\n",
       "      <td>0.98</td>\n",
       "    </tr>\n",
       "    <tr>\n",
       "      <th>3</th>\n",
       "      <td>5.96</td>\n",
       "      <td>959.71</td>\n",
       "      <td>30.98</td>\n",
       "      <td>0.00</td>\n",
       "      <td>5.68</td>\n",
       "      <td>33.43</td>\n",
       "      <td>151.23</td>\n",
       "      <td>0.03</td>\n",
       "      <td>0.00</td>\n",
       "      <td>0.24</td>\n",
       "      <td>7.70</td>\n",
       "      <td>0.96</td>\n",
       "    </tr>\n",
       "    <tr>\n",
       "      <th>4</th>\n",
       "      <td>7.32</td>\n",
       "      <td>729.54</td>\n",
       "      <td>27.01</td>\n",
       "      <td>0.15</td>\n",
       "      <td>4.28</td>\n",
       "      <td>19.08</td>\n",
       "      <td>174.99</td>\n",
       "      <td>0.34</td>\n",
       "      <td>0.12</td>\n",
       "      <td>0.50</td>\n",
       "      <td>6.83</td>\n",
       "      <td>0.97</td>\n",
       "    </tr>\n",
       "    <tr>\n",
       "      <th>...</th>\n",
       "      <td>...</td>\n",
       "      <td>...</td>\n",
       "      <td>...</td>\n",
       "      <td>...</td>\n",
       "      <td>...</td>\n",
       "      <td>...</td>\n",
       "      <td>...</td>\n",
       "      <td>...</td>\n",
       "      <td>...</td>\n",
       "      <td>...</td>\n",
       "      <td>...</td>\n",
       "      <td>...</td>\n",
       "    </tr>\n",
       "    <tr>\n",
       "      <th>3757</th>\n",
       "      <td>21.23</td>\n",
       "      <td>1208.85</td>\n",
       "      <td>34.77</td>\n",
       "      <td>0.06</td>\n",
       "      <td>2.08</td>\n",
       "      <td>4.65</td>\n",
       "      <td>158.44</td>\n",
       "      <td>0.22</td>\n",
       "      <td>0.05</td>\n",
       "      <td>0.49</td>\n",
       "      <td>5.21</td>\n",
       "      <td>0.95</td>\n",
       "    </tr>\n",
       "    <tr>\n",
       "      <th>3758</th>\n",
       "      <td>20.44</td>\n",
       "      <td>1227.15</td>\n",
       "      <td>35.03</td>\n",
       "      <td>0.07</td>\n",
       "      <td>2.14</td>\n",
       "      <td>4.88</td>\n",
       "      <td>161.16</td>\n",
       "      <td>0.23</td>\n",
       "      <td>0.05</td>\n",
       "      <td>0.50</td>\n",
       "      <td>5.08</td>\n",
       "      <td>0.95</td>\n",
       "    </tr>\n",
       "    <tr>\n",
       "      <th>3759</th>\n",
       "      <td>18.01</td>\n",
       "      <td>1151.58</td>\n",
       "      <td>33.93</td>\n",
       "      <td>0.07</td>\n",
       "      <td>2.31</td>\n",
       "      <td>5.58</td>\n",
       "      <td>167.13</td>\n",
       "      <td>0.23</td>\n",
       "      <td>0.05</td>\n",
       "      <td>0.49</td>\n",
       "      <td>5.10</td>\n",
       "      <td>0.95</td>\n",
       "    </tr>\n",
       "    <tr>\n",
       "      <th>3760</th>\n",
       "      <td>13.33</td>\n",
       "      <td>945.73</td>\n",
       "      <td>30.75</td>\n",
       "      <td>0.09</td>\n",
       "      <td>2.73</td>\n",
       "      <td>7.76</td>\n",
       "      <td>223.81</td>\n",
       "      <td>0.26</td>\n",
       "      <td>0.07</td>\n",
       "      <td>0.48</td>\n",
       "      <td>6.44</td>\n",
       "      <td>0.94</td>\n",
       "    </tr>\n",
       "    <tr>\n",
       "      <th>3761</th>\n",
       "      <td>6.11</td>\n",
       "      <td>480.88</td>\n",
       "      <td>21.93</td>\n",
       "      <td>0.12</td>\n",
       "      <td>4.11</td>\n",
       "      <td>17.54</td>\n",
       "      <td>239.25</td>\n",
       "      <td>0.31</td>\n",
       "      <td>0.09</td>\n",
       "      <td>0.49</td>\n",
       "      <td>6.79</td>\n",
       "      <td>0.94</td>\n",
       "    </tr>\n",
       "  </tbody>\n",
       "</table>\n",
       "<p>3762 rows × 12 columns</p>\n",
       "</div>"
      ],
      "text/plain": [
       "       Mean  Variance  Standard Deviation  Entropy  Skewness  Kurtosis  \\\n",
       "0      6.54    619.59               24.89     0.11      4.28     18.90   \n",
       "1      8.75    805.96               28.39     0.27      3.72     14.46   \n",
       "2      7.34   1143.81               33.82     0.00      5.06     26.48   \n",
       "3      5.96    959.71               30.98     0.00      5.68     33.43   \n",
       "4      7.32    729.54               27.01     0.15      4.28     19.08   \n",
       "...     ...       ...                 ...      ...       ...       ...   \n",
       "3757  21.23   1208.85               34.77     0.06      2.08      4.65   \n",
       "3758  20.44   1227.15               35.03     0.07      2.14      4.88   \n",
       "3759  18.01   1151.58               33.93     0.07      2.31      5.58   \n",
       "3760  13.33    945.73               30.75     0.09      2.73      7.76   \n",
       "3761   6.11    480.88               21.93     0.12      4.11     17.54   \n",
       "\n",
       "      Contrast  Energy   ASM  Homogeneity  Dissimilarity  Correlation  \n",
       "0        98.61    0.29  0.09         0.53           4.47         0.98  \n",
       "1        63.86    0.48  0.23         0.65           3.22         0.99  \n",
       "2        81.87    0.03  0.00         0.27           5.98         0.98  \n",
       "3       151.23    0.03  0.00         0.24           7.70         0.96  \n",
       "4       174.99    0.34  0.12         0.50           6.83         0.97  \n",
       "...        ...     ...   ...          ...            ...          ...  \n",
       "3757    158.44    0.22  0.05         0.49           5.21         0.95  \n",
       "3758    161.16    0.23  0.05         0.50           5.08         0.95  \n",
       "3759    167.13    0.23  0.05         0.49           5.10         0.95  \n",
       "3760    223.81    0.26  0.07         0.48           6.44         0.94  \n",
       "3761    239.25    0.31  0.09         0.49           6.79         0.94  \n",
       "\n",
       "[3762 rows x 12 columns]"
      ]
     },
     "execution_count": 30,
     "metadata": {},
     "output_type": "execute_result"
    }
   ],
   "source": [
    "X"
   ]
  },
  {
   "cell_type": "code",
   "execution_count": 31,
   "id": "35ba06da",
   "metadata": {},
   "outputs": [
    {
     "name": "stdout",
     "output_type": "stream",
     "text": [
      "0       0\n",
      "1       0\n",
      "2       1\n",
      "3       1\n",
      "4       0\n",
      "       ..\n",
      "3757    0\n",
      "3758    0\n",
      "3759    0\n",
      "3760    0\n",
      "3761    0\n",
      "Name: Class, Length: 3762, dtype: int64\n"
     ]
    }
   ],
   "source": [
    "print(Y)"
   ]
  },
  {
   "cell_type": "code",
   "execution_count": 32,
   "id": "ba1cb41b",
   "metadata": {},
   "outputs": [
    {
     "data": {
      "text/plain": [
       "Class                 0\n",
       "Mean                  0\n",
       "Variance              0\n",
       "Standard Deviation    0\n",
       "Entropy               0\n",
       "Skewness              0\n",
       "Kurtosis              0\n",
       "Contrast              0\n",
       "Energy                0\n",
       "ASM                   0\n",
       "Homogeneity           0\n",
       "Dissimilarity         0\n",
       "Correlation           0\n",
       "dtype: int64"
      ]
     },
     "execution_count": 32,
     "metadata": {},
     "output_type": "execute_result"
    }
   ],
   "source": [
    "data.isnull().sum()"
   ]
  },
  {
   "cell_type": "markdown",
   "id": "394aeaa2",
   "metadata": {},
   "source": [
    "## Standarisasi Data"
   ]
  },
  {
   "cell_type": "code",
   "execution_count": 33,
   "id": "368ef22e",
   "metadata": {},
   "outputs": [],
   "source": [
    "scaler = StandardScaler()"
   ]
  },
  {
   "cell_type": "code",
   "execution_count": 34,
   "id": "ca03cc4f",
   "metadata": {},
   "outputs": [
    {
     "data": {
      "text/plain": [
       "StandardScaler()"
      ]
     },
     "execution_count": 34,
     "metadata": {},
     "output_type": "execute_result"
    }
   ],
   "source": [
    "scaler.fit(X)"
   ]
  },
  {
   "cell_type": "code",
   "execution_count": 35,
   "id": "cfcb0faa",
   "metadata": {},
   "outputs": [],
   "source": [
    "standarized_data = scaler.transform(X)"
   ]
  },
  {
   "cell_type": "code",
   "execution_count": 36,
   "id": "e5c09fb7",
   "metadata": {},
   "outputs": [
    {
     "name": "stdout",
     "output_type": "stream",
     "text": [
      "[[-0.51489169 -0.19578556 -0.03331811 ...  0.39672099 -0.12350274\n",
      "   0.91950363]\n",
      " [-0.12902019  0.20294811  0.36565926 ...  1.33498442 -0.79918002\n",
      "   1.29913188]\n",
      " [-0.3752097   0.92576924  0.98464415 ... -1.63618311  0.6927154\n",
      "   0.91950363]\n",
      " ...\n",
      " [ 1.48779883  0.94239295  0.99718344 ...  0.08396651  0.2170386\n",
      "  -0.21938113]\n",
      " [ 0.6706592   0.50198233  0.634684   ...  0.00577789  0.94136464\n",
      "  -0.59900939]\n",
      " [-0.58997076 -0.49255193 -0.37073897 ...  0.08396651  1.13055428\n",
      "  -0.59900939]]\n"
     ]
    }
   ],
   "source": [
    "print(standarized_data)"
   ]
  },
  {
   "cell_type": "code",
   "execution_count": 37,
   "id": "6c45fa8e",
   "metadata": {},
   "outputs": [],
   "source": [
    "X = standarized_data\n",
    "Y = data['Class']"
   ]
  },
  {
   "cell_type": "code",
   "execution_count": 38,
   "id": "816282dc",
   "metadata": {
    "scrolled": true
   },
   "outputs": [
    {
     "name": "stdout",
     "output_type": "stream",
     "text": [
      "[[-0.51489169 -0.19578556 -0.03331811 ...  0.39672099 -0.12350274\n",
      "   0.91950363]\n",
      " [-0.12902019  0.20294811  0.36565926 ...  1.33498442 -0.79918002\n",
      "   1.29913188]\n",
      " [-0.3752097   0.92576924  0.98464415 ... -1.63618311  0.6927154\n",
      "   0.91950363]\n",
      " ...\n",
      " [ 1.48779883  0.94239295  0.99718344 ...  0.08396651  0.2170386\n",
      "  -0.21938113]\n",
      " [ 0.6706592   0.50198233  0.634684   ...  0.00577789  0.94136464\n",
      "  -0.59900939]\n",
      " [-0.58997076 -0.49255193 -0.37073897 ...  0.08396651  1.13055428\n",
      "  -0.59900939]]\n",
      "0       0\n",
      "1       0\n",
      "2       1\n",
      "3       1\n",
      "4       0\n",
      "       ..\n",
      "3757    0\n",
      "3758    0\n",
      "3759    0\n",
      "3760    0\n",
      "3761    0\n",
      "Name: Class, Length: 3762, dtype: int64\n"
     ]
    }
   ],
   "source": [
    "print(X)\n",
    "print(Y)"
   ]
  },
  {
   "cell_type": "markdown",
   "id": "1f675eb8",
   "metadata": {},
   "source": [
    "## Memisahkan Data Training dan Data Testing"
   ]
  },
  {
   "cell_type": "code",
   "execution_count": 39,
   "id": "c197a60e",
   "metadata": {},
   "outputs": [],
   "source": [
    "X_train, X_test, Y_train, Y_test = train_test_split(X, Y, stratify=Y, random_state=8)"
   ]
  },
  {
   "cell_type": "code",
   "execution_count": 40,
   "id": "176e96c0",
   "metadata": {},
   "outputs": [
    {
     "name": "stdout",
     "output_type": "stream",
     "text": [
      "(3762, 12) (2821, 12) (941, 12)\n"
     ]
    }
   ],
   "source": [
    "print(X.shape, X_train.shape, X_test.shape)"
   ]
  },
  {
   "cell_type": "markdown",
   "id": "536039aa",
   "metadata": {},
   "source": [
    "## Model Naive Bayes"
   ]
  },
  {
   "cell_type": "code",
   "execution_count": 41,
   "id": "76a5ac2d",
   "metadata": {},
   "outputs": [
    {
     "data": {
      "text/plain": [
       "GaussianNB()"
      ]
     },
     "execution_count": 41,
     "metadata": {},
     "output_type": "execute_result"
    }
   ],
   "source": [
    "classifier = GaussianNB()\n",
    "classifier.fit(X_train, Y_train)"
   ]
  },
  {
   "cell_type": "markdown",
   "id": "cfcd170b",
   "metadata": {},
   "source": [
    "## Evaluasi Model"
   ]
  },
  {
   "cell_type": "code",
   "execution_count": 42,
   "id": "3f54a303",
   "metadata": {},
   "outputs": [],
   "source": [
    "X_train_prediction=classifier.predict(X_train)\n",
    "training_data_accuracy = accuracy_score(X_train_prediction, Y_train)"
   ]
  },
  {
   "cell_type": "code",
   "execution_count": 43,
   "id": "ffc757dd",
   "metadata": {},
   "outputs": [
    {
     "name": "stdout",
     "output_type": "stream",
     "text": [
      "Akurasi data training =  0.9666784828075151\n"
     ]
    }
   ],
   "source": [
    "print(\"Akurasi data training = \", training_data_accuracy)"
   ]
  },
  {
   "cell_type": "code",
   "execution_count": 44,
   "id": "e9589b6f",
   "metadata": {},
   "outputs": [],
   "source": [
    "X_test_prediction=classifier.predict(X_test)\n",
    "test_data_accuracy = accuracy_score(X_test_prediction, Y_test)"
   ]
  },
  {
   "cell_type": "code",
   "execution_count": 45,
   "id": "8fe26ee5",
   "metadata": {},
   "outputs": [
    {
     "name": "stdout",
     "output_type": "stream",
     "text": [
      "Akurasi data testing =  0.9702444208289054\n"
     ]
    }
   ],
   "source": [
    "print(\"Akurasi data testing = \", test_data_accuracy)"
   ]
  },
  {
   "cell_type": "markdown",
   "id": "51ae35cc",
   "metadata": {},
   "source": [
    "## Membuat Model Prediksi"
   ]
  },
  {
   "cell_type": "code",
   "execution_count": 50,
   "id": "48728920",
   "metadata": {},
   "outputs": [
    {
     "name": "stdout",
     "output_type": "stream",
     "text": [
      "[[-0.61616113  0.53189217  0.66090251 -1.03621833  0.61594852  0.16022312\n",
      "   0.21252735 -1.34995057 -0.99223502 -1.87074897  1.62244733  0.16024712]]\n",
      "[1]\n",
      "pasien terkena tumor\n"
     ]
    },
    {
     "name": "stderr",
     "output_type": "stream",
     "text": [
      "C:\\Users\\user\\anaconda3\\lib\\site-packages\\sklearn\\base.py:450: UserWarning: X does not have valid feature names, but StandardScaler was fitted with feature names\n",
      "  warnings.warn(\n"
     ]
    }
   ],
   "source": [
    "input_data = (5.96,959.71,30.98,0.00,5.68,33.43,151.23,0.03,0.00,0.24,7.70,0.96)\n",
    "input_data_as_numpy_array = np.array(input_data)\n",
    "\n",
    "input_data_reshape = input_data_as_numpy_array.reshape(1,-1)\n",
    "\n",
    "std_data = scaler.transform(input_data_reshape)\n",
    "print(std_data)\n",
    "\n",
    "prediction = classifier.predict(std_data)\n",
    "print(prediction)\n",
    "\n",
    "if(prediction[0] == 0):\n",
    "    print('pasien tidak terkena tumor')\n",
    "else :\n",
    "    print('pasien terkena tumor')"
   ]
  },
  {
   "cell_type": "markdown",
   "id": "c9ff90b2",
   "metadata": {},
   "source": [
    "## Load Model"
   ]
  },
  {
   "cell_type": "code",
   "execution_count": 47,
   "id": "f428e192",
   "metadata": {},
   "outputs": [],
   "source": [
    "import pickle"
   ]
  },
  {
   "cell_type": "code",
   "execution_count": 48,
   "id": "eb9b5d99",
   "metadata": {},
   "outputs": [],
   "source": [
    "filename = 'brain_tumor.sav'\n",
    "pickle.dump(classifier, open(filename,'wb'))"
   ]
  }
 ],
 "metadata": {
  "kernelspec": {
   "display_name": "Python 3 (ipykernel)",
   "language": "python",
   "name": "python3"
  },
  "language_info": {
   "codemirror_mode": {
    "name": "ipython",
    "version": 3
   },
   "file_extension": ".py",
   "mimetype": "text/x-python",
   "name": "python",
   "nbconvert_exporter": "python",
   "pygments_lexer": "ipython3",
   "version": "3.9.13"
  }
 },
 "nbformat": 4,
 "nbformat_minor": 5
}
